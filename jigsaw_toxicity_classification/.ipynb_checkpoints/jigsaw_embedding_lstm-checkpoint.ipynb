{
 "cells": [
  {
   "cell_type": "code",
   "execution_count": 1,
   "metadata": {},
   "outputs": [
    {
     "name": "stderr",
     "output_type": "stream",
     "text": [
      "Using TensorFlow backend.\n"
     ]
    }
   ],
   "source": [
    "import numpy as np\n",
    "import pandas as pd\n",
    "import matplotlib.pyplot as plt\n",
    "from collections import Counter\n",
    "import nltk\n",
    "# nltk.download('stopwords')\n",
    "# nltk.download('punkt')\n",
    "from nltk.corpus import stopwords \n",
    "from nltk.tokenize import word_tokenize \n",
    "stop_words = set(stopwords.words('english')) \n",
    "import tensorflow as tf\n",
    "from sklearn.metrics import roc_auc_score\n",
    "from keras import models, layers, Model\n",
    "from keras.preprocessing import text, sequence\n",
    "from keras.callbacks import EarlyStopping, ModelCheckpoint, ReduceLROnPlateau\n",
    "\n",
    "import os\n",
    "print(os.listdir(\"../input\"))"
   ]
  },
  {
   "cell_type": "markdown",
   "metadata": {},
   "source": [
    "## Define Function"
   ]
  },
  {
   "cell_type": "code",
   "execution_count": null,
   "metadata": {},
   "outputs": [],
   "source": [
    "## Clean Punctuation & Stopwords\n",
    "class clean_text:\n",
    "\tdef __init__(self, text):\n",
    "\t\tself.text = text\n",
    "\t\n",
    "\t# Remove Punctuation\n",
    "\tdef rm_punct(text):\n",
    "\t\tpunct = set([p for p in \"/-'?!.,#$%\\'()*+-/:;<=>@[\\\\]^_`{|}~`\" + '\"\"“”’' + '∞θ÷α•à−β∅³π‘₹´°£€\\×™√²—–&'])\n",
    "\t\ttext = [t for t in text if t not in punct]\n",
    "\t\t\t\n",
    "\t\treturn \"\".join(text)\n",
    "\n",
    "\t# Remove Stopwords\n",
    "\tdef rm_stopwords(text):\n",
    "\t\tword_tokens = word_tokenize(text)   \n",
    "\t\tresult = [w for w in word_tokens if w not in stop_words]\n",
    "\t\t\t\t\n",
    "\t\treturn \" \".join(result)\n",
    "\n",
    "def Embedding_CuDNNLSTM_model(max_words, max_len):\n",
    "    sequence_input = layers.Input(shape=(None, ))\n",
    "    x = layers.Embedding(max_words, 128, input_length=max_len)(sequence_input)\n",
    "    x = layers.SpatialDropout1D(0.3)(x)\n",
    "    x = layers.Bidirectional(layers.CuDNNLSTM(64, return_sequences=True))(x)\n",
    "    x = layers.Bidirectional(layers.CuDNNLSTM(64, return_sequences=True))(x)\n",
    "    \n",
    "    avg_pool1d = layers.GlobalAveragePooling1D()(x)\n",
    "    max_pool1d = layers.GlobalMaxPool1D()(x)\n",
    "    \n",
    "    x = layers.concatenate([avg_pool1d, max_pool1d])\n",
    "    x = layers.Dense(32, activation='relu')(x)\n",
    "    x = layers.BatchNormalization()(x)\n",
    "    output = layers.Dense(1, activation='sigmoid')(x)\n",
    "    \n",
    "    model = models.Model(sequence_input, output)\n",
    "    \n",
    "    return model\n",
    "    \n",
    "\n",
    "def auroc(y_true, y_pred):\n",
    "\treturn tf.py_func(roc_auc_score, (y_true, y_pred), tf.double)"
   ]
  },
  {
   "cell_type": "markdown",
   "metadata": {},
   "source": [
    "## 1. Load Data"
   ]
  },
  {
   "cell_type": "code",
   "execution_count": null,
   "metadata": {},
   "outputs": [],
   "source": [
    "## load data\n",
    "train_data = pd.read_csv('../input/train.csv')\n",
    "test_data = pd.read_csv('../input/test.csv')\n",
    "print(train_data.shape)\n",
    "print(test_data.shape)"
   ]
  },
  {
   "cell_type": "code",
   "execution_count": null,
   "metadata": {},
   "outputs": [],
   "source": [
    "train_data.head()"
   ]
  },
  {
   "cell_type": "markdown",
   "metadata": {},
   "source": [
    "## 2. Set index & target label"
   ]
  },
  {
   "cell_type": "code",
   "execution_count": null,
   "metadata": {},
   "outputs": [],
   "source": [
    "train_df = train_data[['id','comment_text','target']]\n",
    "test_df = test_data.copy()\n",
    "\n",
    "# set index\n",
    "train_df.set_index('id', inplace=True)\n",
    "test_df.set_index('id', inplace=True)\n",
    "\n",
    "# y_label\n",
    "train_y_label = np.where(train_df['target'] >= 0.5, 1, 0) # Label 1 >= 0.5 / Label 0 < 0.5\n",
    "train_df.drop(['target'], axis=1, inplace=True)"
   ]
  },
  {
   "cell_type": "code",
   "execution_count": null,
   "metadata": {},
   "outputs": [],
   "source": [
    "# ratio by Class\n",
    "Counter(train_y_label)"
   ]
  },
  {
   "cell_type": "markdown",
   "metadata": {},
   "source": [
    "## 3. View text data"
   ]
  },
  {
   "cell_type": "code",
   "execution_count": null,
   "metadata": {},
   "outputs": [],
   "source": [
    "train_data['comment_text'].head(20)"
   ]
  },
  {
   "cell_type": "markdown",
   "metadata": {},
   "source": [
    "## 4. Remove Punctuation & Stopwords"
   ]
  },
  {
   "cell_type": "code",
   "execution_count": null,
   "metadata": {},
   "outputs": [],
   "source": [
    "# remove punctuation \n",
    "train_df['comment_text'] = train_df['comment_text'].apply(lambda x: clean_text.rm_punct(x))\n",
    "test_df['comment_text'] = test_df['comment_text'].apply(lambda x: clean_text.rm_punct(x))\n",
    "# remove stopwords\n",
    "X_train = train_df['comment_text'].apply(lambda x: clean_text.rm_stopwords(x))\n",
    "X_test = test_df['comment_text'].apply(lambda x: clean_text.rm_stopwords(x))"
   ]
  },
  {
   "cell_type": "markdown",
   "metadata": {},
   "source": [
    "## 5. Tokenize"
   ]
  },
  {
   "cell_type": "code",
   "execution_count": null,
   "metadata": {},
   "outputs": [],
   "source": [
    "## tokenize\n",
    "max_words = 100000\n",
    "tokenizer = text.Tokenizer(num_words=max_words)\n",
    "tokenizer.fit_on_texts(X_train)\n",
    "\n",
    "# texts_to_sequences\n",
    "sequences_text_train = tokenizer.texts_to_sequences(X_train)\n",
    "sequences_text_test = tokenizer.texts_to_sequences(X_test)"
   ]
  },
  {
   "cell_type": "code",
   "execution_count": null,
   "metadata": {},
   "outputs": [],
   "source": [
    "sequences_text_train[:5]"
   ]
  },
  {
   "cell_type": "code",
   "execution_count": null,
   "metadata": {},
   "outputs": [],
   "source": [
    "# add padding\n",
    "max_len = max(len(l) for l in sequences_text_train)\n",
    "pad_train = sequence.pad_sequences(sequences_text_train, maxlen=max_len)\n",
    "pad_test = sequence.pad_sequences(sequences_text_test, maxlen=max_len)"
   ]
  },
  {
   "cell_type": "code",
   "execution_count": null,
   "metadata": {},
   "outputs": [],
   "source": [
    "pad_train[:5]"
   ]
  },
  {
   "cell_type": "markdown",
   "metadata": {},
   "source": [
    "## 6. Embedding + LSTM model"
   ]
  },
  {
   "cell_type": "code",
   "execution_count": null,
   "metadata": {},
   "outputs": [],
   "source": [
    "model = Embedding_CuDNNLSTM_model(max_words, max_len)\n",
    "\n",
    "# model compile\n",
    "model.compile(optimizer='adam',\n",
    "\t\t\t loss='binary_crossentropy', metrics=['acc', auroc])\n",
    "model.summary()"
   ]
  },
  {
   "cell_type": "markdown",
   "metadata": {},
   "source": [
    "#### train model"
   ]
  },
  {
   "cell_type": "code",
   "execution_count": null,
   "metadata": {},
   "outputs": [],
   "source": [
    "# keras.callbacks\n",
    "callbacks_list = [\n",
    "\t\tReduceLROnPlateau(\n",
    "\t\t\tmonitor='val_auroc', patience=2, factor=0.1, mode='max'),\t# val_loss가 patience동안 향상되지 않으면 학습률을 0.1만큼 감소 (new_lr = lr * factor)\n",
    "\t\tEarlyStopping(\n",
    "\t\t\tpatience=5, monitor='val_auroc', mode='max', restore_best_weights=True)\n",
    "]\n",
    "\n",
    "history = model.fit(pad_train, train_y_label,\n",
    "\t\t\t\t\tepochs=7, batch_size=1024,\n",
    "\t\t\t\t\tcallbacks=callbacks_list, \n",
    "\t\t\t\t\tvalidation_split=0.3, verbose=2)"
   ]
  },
  {
   "cell_type": "code",
   "execution_count": null,
   "metadata": {},
   "outputs": [],
   "source": [
    "# plot score by epochs\n",
    "auroc = history.history['auroc']\n",
    "val_auroc = history.history['val_auroc']\n",
    "epochs = range(1, len(acc)+1)\n",
    "\n",
    "plt.figure(figsize=(7,3))\n",
    "plt.plot(epochs, auroc, 'b', label='auroc')\n",
    "plt.plot(epochs, val_auroc, 'r', label='validation auroc')"
   ]
  },
  {
   "cell_type": "markdown",
   "metadata": {},
   "source": [
    "#### predict test set"
   ]
  },
  {
   "cell_type": "code",
   "execution_count": null,
   "metadata": {},
   "outputs": [],
   "source": [
    "## predict test_set\n",
    "test_pred = model.predict(pad_test)"
   ]
  },
  {
   "cell_type": "markdown",
   "metadata": {},
   "source": [
    "## 7. submit submission.csv"
   ]
  },
  {
   "cell_type": "code",
   "execution_count": null,
   "metadata": {},
   "outputs": [],
   "source": [
    "sample_result = pd.DataFrame()\n",
    "sample_result['id'] = test_df.index\n",
    "sample_result['prediction'] = test_pred\n",
    "\n",
    "## submit sample_submission.csv\n",
    "sample_result.to_csv('submission.csv', index=False)"
   ]
  }
 ],
 "metadata": {
  "kernelspec": {
   "display_name": "Python 3",
   "language": "python",
   "name": "python3"
  },
  "language_info": {
   "codemirror_mode": {
    "name": "ipython",
    "version": 3
   },
   "file_extension": ".py",
   "mimetype": "text/x-python",
   "name": "python",
   "nbconvert_exporter": "python",
   "pygments_lexer": "ipython3",
   "version": "3.6.5"
  }
 },
 "nbformat": 4,
 "nbformat_minor": 2
}
