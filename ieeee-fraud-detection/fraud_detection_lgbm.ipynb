{
 "cells": [
  {
   "cell_type": "code",
   "execution_count": 1,
   "metadata": {},
   "outputs": [
    {
     "data": {
      "text/plain": [
       "['sample_submission.csv',\n",
       " 'test_identity.csv',\n",
       " 'test_transaction.csv',\n",
       " 'train_identity.csv',\n",
       " 'train_transaction.csv']"
      ]
     },
     "execution_count": 1,
     "metadata": {},
     "output_type": "execute_result"
    }
   ],
   "source": [
    "import pandas as pd\n",
    "import numpy as np\n",
    "import os\n",
    "import seaborn as sns\n",
    "import matplotlib.pyplot as plt\n",
    "from collections import Counter\n",
    "from sklearn.preprocessing import LabelEncoder\n",
    "from sklearn.model_selection import train_test_split, GridSearchCV\n",
    "from sklearn.metrics import accuracy_score, recall_score, classification_report\n",
    "import lightgbm as lgb\n",
    "from sklearn.decomposition import PCA\n",
    "\n",
    "# path\n",
    "path_dir = 'C:/Users/USER/.kaggle/competitions/ieee-fraud-detection/'\n",
    "file_list = os.listdir(path_dir)\n",
    "file_list"
   ]
  },
  {
   "cell_type": "markdown",
   "metadata": {},
   "source": [
    "## Load Data\n",
    "Load identity.csv and transaction.csv"
   ]
  },
  {
   "cell_type": "code",
   "execution_count": 2,
   "metadata": {},
   "outputs": [],
   "source": [
    "# Train Data\n",
    "train_identity = pd.read_csv(path_dir+'train_identity.csv')\n",
    "train_transaction = pd.read_csv(path_dir+'train_transaction.csv')\n",
    "# Test Data\n",
    "test_identity = pd.read_csv(path_dir+'test_identity.csv')\n",
    "test_transaction = pd.read_csv(path_dir+'test_transaction.csv')"
   ]
  },
  {
   "cell_type": "code",
   "execution_count": 3,
   "metadata": {},
   "outputs": [
    {
     "data": {
      "text/html": [
       "<div>\n",
       "<style scoped>\n",
       "    .dataframe tbody tr th:only-of-type {\n",
       "        vertical-align: middle;\n",
       "    }\n",
       "\n",
       "    .dataframe tbody tr th {\n",
       "        vertical-align: top;\n",
       "    }\n",
       "\n",
       "    .dataframe thead th {\n",
       "        text-align: right;\n",
       "    }\n",
       "</style>\n",
       "<table border=\"1\" class=\"dataframe\">\n",
       "  <thead>\n",
       "    <tr style=\"text-align: right;\">\n",
       "      <th></th>\n",
       "      <th>TransactionID</th>\n",
       "      <th>id_01</th>\n",
       "      <th>id_02</th>\n",
       "      <th>id_03</th>\n",
       "      <th>id_04</th>\n",
       "      <th>id_05</th>\n",
       "      <th>id_06</th>\n",
       "      <th>id_07</th>\n",
       "      <th>id_08</th>\n",
       "      <th>id_09</th>\n",
       "      <th>...</th>\n",
       "      <th>id_31</th>\n",
       "      <th>id_32</th>\n",
       "      <th>id_33</th>\n",
       "      <th>id_34</th>\n",
       "      <th>id_35</th>\n",
       "      <th>id_36</th>\n",
       "      <th>id_37</th>\n",
       "      <th>id_38</th>\n",
       "      <th>DeviceType</th>\n",
       "      <th>DeviceInfo</th>\n",
       "    </tr>\n",
       "  </thead>\n",
       "  <tbody>\n",
       "    <tr>\n",
       "      <td>0</td>\n",
       "      <td>2987004</td>\n",
       "      <td>0.0</td>\n",
       "      <td>70787.0</td>\n",
       "      <td>NaN</td>\n",
       "      <td>NaN</td>\n",
       "      <td>NaN</td>\n",
       "      <td>NaN</td>\n",
       "      <td>NaN</td>\n",
       "      <td>NaN</td>\n",
       "      <td>NaN</td>\n",
       "      <td>...</td>\n",
       "      <td>samsung browser 6.2</td>\n",
       "      <td>32.0</td>\n",
       "      <td>2220x1080</td>\n",
       "      <td>match_status:2</td>\n",
       "      <td>T</td>\n",
       "      <td>F</td>\n",
       "      <td>T</td>\n",
       "      <td>T</td>\n",
       "      <td>mobile</td>\n",
       "      <td>SAMSUNG SM-G892A Build/NRD90M</td>\n",
       "    </tr>\n",
       "    <tr>\n",
       "      <td>1</td>\n",
       "      <td>2987008</td>\n",
       "      <td>-5.0</td>\n",
       "      <td>98945.0</td>\n",
       "      <td>NaN</td>\n",
       "      <td>NaN</td>\n",
       "      <td>0.0</td>\n",
       "      <td>-5.0</td>\n",
       "      <td>NaN</td>\n",
       "      <td>NaN</td>\n",
       "      <td>NaN</td>\n",
       "      <td>...</td>\n",
       "      <td>mobile safari 11.0</td>\n",
       "      <td>32.0</td>\n",
       "      <td>1334x750</td>\n",
       "      <td>match_status:1</td>\n",
       "      <td>T</td>\n",
       "      <td>F</td>\n",
       "      <td>F</td>\n",
       "      <td>T</td>\n",
       "      <td>mobile</td>\n",
       "      <td>iOS Device</td>\n",
       "    </tr>\n",
       "    <tr>\n",
       "      <td>2</td>\n",
       "      <td>2987010</td>\n",
       "      <td>-5.0</td>\n",
       "      <td>191631.0</td>\n",
       "      <td>0.0</td>\n",
       "      <td>0.0</td>\n",
       "      <td>0.0</td>\n",
       "      <td>0.0</td>\n",
       "      <td>NaN</td>\n",
       "      <td>NaN</td>\n",
       "      <td>0.0</td>\n",
       "      <td>...</td>\n",
       "      <td>chrome 62.0</td>\n",
       "      <td>NaN</td>\n",
       "      <td>NaN</td>\n",
       "      <td>NaN</td>\n",
       "      <td>F</td>\n",
       "      <td>F</td>\n",
       "      <td>T</td>\n",
       "      <td>T</td>\n",
       "      <td>desktop</td>\n",
       "      <td>Windows</td>\n",
       "    </tr>\n",
       "    <tr>\n",
       "      <td>3</td>\n",
       "      <td>2987011</td>\n",
       "      <td>-5.0</td>\n",
       "      <td>221832.0</td>\n",
       "      <td>NaN</td>\n",
       "      <td>NaN</td>\n",
       "      <td>0.0</td>\n",
       "      <td>-6.0</td>\n",
       "      <td>NaN</td>\n",
       "      <td>NaN</td>\n",
       "      <td>NaN</td>\n",
       "      <td>...</td>\n",
       "      <td>chrome 62.0</td>\n",
       "      <td>NaN</td>\n",
       "      <td>NaN</td>\n",
       "      <td>NaN</td>\n",
       "      <td>F</td>\n",
       "      <td>F</td>\n",
       "      <td>T</td>\n",
       "      <td>T</td>\n",
       "      <td>desktop</td>\n",
       "      <td>NaN</td>\n",
       "    </tr>\n",
       "    <tr>\n",
       "      <td>4</td>\n",
       "      <td>2987016</td>\n",
       "      <td>0.0</td>\n",
       "      <td>7460.0</td>\n",
       "      <td>0.0</td>\n",
       "      <td>0.0</td>\n",
       "      <td>1.0</td>\n",
       "      <td>0.0</td>\n",
       "      <td>NaN</td>\n",
       "      <td>NaN</td>\n",
       "      <td>0.0</td>\n",
       "      <td>...</td>\n",
       "      <td>chrome 62.0</td>\n",
       "      <td>24.0</td>\n",
       "      <td>1280x800</td>\n",
       "      <td>match_status:2</td>\n",
       "      <td>T</td>\n",
       "      <td>F</td>\n",
       "      <td>T</td>\n",
       "      <td>T</td>\n",
       "      <td>desktop</td>\n",
       "      <td>MacOS</td>\n",
       "    </tr>\n",
       "  </tbody>\n",
       "</table>\n",
       "<p>5 rows × 41 columns</p>\n",
       "</div>"
      ],
      "text/plain": [
       "   TransactionID  id_01     id_02  id_03  id_04  id_05  id_06  id_07  id_08  \\\n",
       "0        2987004    0.0   70787.0    NaN    NaN    NaN    NaN    NaN    NaN   \n",
       "1        2987008   -5.0   98945.0    NaN    NaN    0.0   -5.0    NaN    NaN   \n",
       "2        2987010   -5.0  191631.0    0.0    0.0    0.0    0.0    NaN    NaN   \n",
       "3        2987011   -5.0  221832.0    NaN    NaN    0.0   -6.0    NaN    NaN   \n",
       "4        2987016    0.0    7460.0    0.0    0.0    1.0    0.0    NaN    NaN   \n",
       "\n",
       "   id_09  ...                id_31  id_32      id_33           id_34  id_35  \\\n",
       "0    NaN  ...  samsung browser 6.2   32.0  2220x1080  match_status:2      T   \n",
       "1    NaN  ...   mobile safari 11.0   32.0   1334x750  match_status:1      T   \n",
       "2    0.0  ...          chrome 62.0    NaN        NaN             NaN      F   \n",
       "3    NaN  ...          chrome 62.0    NaN        NaN             NaN      F   \n",
       "4    0.0  ...          chrome 62.0   24.0   1280x800  match_status:2      T   \n",
       "\n",
       "  id_36 id_37  id_38  DeviceType                     DeviceInfo  \n",
       "0     F     T      T      mobile  SAMSUNG SM-G892A Build/NRD90M  \n",
       "1     F     F      T      mobile                     iOS Device  \n",
       "2     F     T      T     desktop                        Windows  \n",
       "3     F     T      T     desktop                            NaN  \n",
       "4     F     T      T     desktop                          MacOS  \n",
       "\n",
       "[5 rows x 41 columns]"
      ]
     },
     "execution_count": 3,
     "metadata": {},
     "output_type": "execute_result"
    }
   ],
   "source": [
    "train_identity.head()"
   ]
  },
  {
   "cell_type": "code",
   "execution_count": 4,
   "metadata": {},
   "outputs": [
    {
     "data": {
      "text/html": [
       "<div>\n",
       "<style scoped>\n",
       "    .dataframe tbody tr th:only-of-type {\n",
       "        vertical-align: middle;\n",
       "    }\n",
       "\n",
       "    .dataframe tbody tr th {\n",
       "        vertical-align: top;\n",
       "    }\n",
       "\n",
       "    .dataframe thead th {\n",
       "        text-align: right;\n",
       "    }\n",
       "</style>\n",
       "<table border=\"1\" class=\"dataframe\">\n",
       "  <thead>\n",
       "    <tr style=\"text-align: right;\">\n",
       "      <th></th>\n",
       "      <th>TransactionID</th>\n",
       "      <th>isFraud</th>\n",
       "      <th>TransactionDT</th>\n",
       "      <th>TransactionAmt</th>\n",
       "      <th>ProductCD</th>\n",
       "      <th>card1</th>\n",
       "      <th>card2</th>\n",
       "      <th>card3</th>\n",
       "      <th>card4</th>\n",
       "      <th>card5</th>\n",
       "      <th>...</th>\n",
       "      <th>V330</th>\n",
       "      <th>V331</th>\n",
       "      <th>V332</th>\n",
       "      <th>V333</th>\n",
       "      <th>V334</th>\n",
       "      <th>V335</th>\n",
       "      <th>V336</th>\n",
       "      <th>V337</th>\n",
       "      <th>V338</th>\n",
       "      <th>V339</th>\n",
       "    </tr>\n",
       "  </thead>\n",
       "  <tbody>\n",
       "    <tr>\n",
       "      <td>0</td>\n",
       "      <td>2987000</td>\n",
       "      <td>0</td>\n",
       "      <td>86400</td>\n",
       "      <td>68.5</td>\n",
       "      <td>W</td>\n",
       "      <td>13926</td>\n",
       "      <td>NaN</td>\n",
       "      <td>150.0</td>\n",
       "      <td>discover</td>\n",
       "      <td>142.0</td>\n",
       "      <td>...</td>\n",
       "      <td>NaN</td>\n",
       "      <td>NaN</td>\n",
       "      <td>NaN</td>\n",
       "      <td>NaN</td>\n",
       "      <td>NaN</td>\n",
       "      <td>NaN</td>\n",
       "      <td>NaN</td>\n",
       "      <td>NaN</td>\n",
       "      <td>NaN</td>\n",
       "      <td>NaN</td>\n",
       "    </tr>\n",
       "    <tr>\n",
       "      <td>1</td>\n",
       "      <td>2987001</td>\n",
       "      <td>0</td>\n",
       "      <td>86401</td>\n",
       "      <td>29.0</td>\n",
       "      <td>W</td>\n",
       "      <td>2755</td>\n",
       "      <td>404.0</td>\n",
       "      <td>150.0</td>\n",
       "      <td>mastercard</td>\n",
       "      <td>102.0</td>\n",
       "      <td>...</td>\n",
       "      <td>NaN</td>\n",
       "      <td>NaN</td>\n",
       "      <td>NaN</td>\n",
       "      <td>NaN</td>\n",
       "      <td>NaN</td>\n",
       "      <td>NaN</td>\n",
       "      <td>NaN</td>\n",
       "      <td>NaN</td>\n",
       "      <td>NaN</td>\n",
       "      <td>NaN</td>\n",
       "    </tr>\n",
       "    <tr>\n",
       "      <td>2</td>\n",
       "      <td>2987002</td>\n",
       "      <td>0</td>\n",
       "      <td>86469</td>\n",
       "      <td>59.0</td>\n",
       "      <td>W</td>\n",
       "      <td>4663</td>\n",
       "      <td>490.0</td>\n",
       "      <td>150.0</td>\n",
       "      <td>visa</td>\n",
       "      <td>166.0</td>\n",
       "      <td>...</td>\n",
       "      <td>NaN</td>\n",
       "      <td>NaN</td>\n",
       "      <td>NaN</td>\n",
       "      <td>NaN</td>\n",
       "      <td>NaN</td>\n",
       "      <td>NaN</td>\n",
       "      <td>NaN</td>\n",
       "      <td>NaN</td>\n",
       "      <td>NaN</td>\n",
       "      <td>NaN</td>\n",
       "    </tr>\n",
       "    <tr>\n",
       "      <td>3</td>\n",
       "      <td>2987003</td>\n",
       "      <td>0</td>\n",
       "      <td>86499</td>\n",
       "      <td>50.0</td>\n",
       "      <td>W</td>\n",
       "      <td>18132</td>\n",
       "      <td>567.0</td>\n",
       "      <td>150.0</td>\n",
       "      <td>mastercard</td>\n",
       "      <td>117.0</td>\n",
       "      <td>...</td>\n",
       "      <td>NaN</td>\n",
       "      <td>NaN</td>\n",
       "      <td>NaN</td>\n",
       "      <td>NaN</td>\n",
       "      <td>NaN</td>\n",
       "      <td>NaN</td>\n",
       "      <td>NaN</td>\n",
       "      <td>NaN</td>\n",
       "      <td>NaN</td>\n",
       "      <td>NaN</td>\n",
       "    </tr>\n",
       "    <tr>\n",
       "      <td>4</td>\n",
       "      <td>2987004</td>\n",
       "      <td>0</td>\n",
       "      <td>86506</td>\n",
       "      <td>50.0</td>\n",
       "      <td>H</td>\n",
       "      <td>4497</td>\n",
       "      <td>514.0</td>\n",
       "      <td>150.0</td>\n",
       "      <td>mastercard</td>\n",
       "      <td>102.0</td>\n",
       "      <td>...</td>\n",
       "      <td>0.0</td>\n",
       "      <td>0.0</td>\n",
       "      <td>0.0</td>\n",
       "      <td>0.0</td>\n",
       "      <td>0.0</td>\n",
       "      <td>0.0</td>\n",
       "      <td>0.0</td>\n",
       "      <td>0.0</td>\n",
       "      <td>0.0</td>\n",
       "      <td>0.0</td>\n",
       "    </tr>\n",
       "  </tbody>\n",
       "</table>\n",
       "<p>5 rows × 394 columns</p>\n",
       "</div>"
      ],
      "text/plain": [
       "   TransactionID  isFraud  TransactionDT  TransactionAmt ProductCD  card1  \\\n",
       "0        2987000        0          86400            68.5         W  13926   \n",
       "1        2987001        0          86401            29.0         W   2755   \n",
       "2        2987002        0          86469            59.0         W   4663   \n",
       "3        2987003        0          86499            50.0         W  18132   \n",
       "4        2987004        0          86506            50.0         H   4497   \n",
       "\n",
       "   card2  card3       card4  card5  ... V330  V331  V332  V333  V334 V335  \\\n",
       "0    NaN  150.0    discover  142.0  ...  NaN   NaN   NaN   NaN   NaN  NaN   \n",
       "1  404.0  150.0  mastercard  102.0  ...  NaN   NaN   NaN   NaN   NaN  NaN   \n",
       "2  490.0  150.0        visa  166.0  ...  NaN   NaN   NaN   NaN   NaN  NaN   \n",
       "3  567.0  150.0  mastercard  117.0  ...  NaN   NaN   NaN   NaN   NaN  NaN   \n",
       "4  514.0  150.0  mastercard  102.0  ...  0.0   0.0   0.0   0.0   0.0  0.0   \n",
       "\n",
       "  V336  V337  V338  V339  \n",
       "0  NaN   NaN   NaN   NaN  \n",
       "1  NaN   NaN   NaN   NaN  \n",
       "2  NaN   NaN   NaN   NaN  \n",
       "3  NaN   NaN   NaN   NaN  \n",
       "4  0.0   0.0   0.0   0.0  \n",
       "\n",
       "[5 rows x 394 columns]"
      ]
     },
     "execution_count": 4,
     "metadata": {},
     "output_type": "execute_result"
    }
   ],
   "source": [
    "train_transaction.head()"
   ]
  },
  {
   "cell_type": "markdown",
   "metadata": {},
   "source": [
    "## Data Merge\n",
    "Merge identity data and transaction data on 'TransactionID' column. "
   ]
  },
  {
   "cell_type": "code",
   "execution_count": 5,
   "metadata": {},
   "outputs": [],
   "source": [
    "train_merge = pd.merge(train_identity, train_transaction, on=['TransactionID'], how='right')\n",
    "test_merge = pd.merge(test_identity, test_transaction, on=['TransactionID'], how='right')\n",
    "train_merge = train_merge.drop(['DeviceInfo'], axis=1)\n",
    "test_merge = test_merge.drop(['DeviceInfo'], axis=1)\n",
    "\n",
    "del train_identity, train_transaction, test_identity, test_transaction"
   ]
  },
  {
   "cell_type": "code",
   "execution_count": 6,
   "metadata": {},
   "outputs": [
    {
     "data": {
      "text/html": [
       "<div>\n",
       "<style scoped>\n",
       "    .dataframe tbody tr th:only-of-type {\n",
       "        vertical-align: middle;\n",
       "    }\n",
       "\n",
       "    .dataframe tbody tr th {\n",
       "        vertical-align: top;\n",
       "    }\n",
       "\n",
       "    .dataframe thead th {\n",
       "        text-align: right;\n",
       "    }\n",
       "</style>\n",
       "<table border=\"1\" class=\"dataframe\">\n",
       "  <thead>\n",
       "    <tr style=\"text-align: right;\">\n",
       "      <th></th>\n",
       "      <th>TransactionID</th>\n",
       "      <th>id_01</th>\n",
       "      <th>id_02</th>\n",
       "      <th>id_03</th>\n",
       "      <th>id_04</th>\n",
       "      <th>id_05</th>\n",
       "      <th>id_06</th>\n",
       "      <th>id_07</th>\n",
       "      <th>id_08</th>\n",
       "      <th>id_09</th>\n",
       "      <th>...</th>\n",
       "      <th>V330</th>\n",
       "      <th>V331</th>\n",
       "      <th>V332</th>\n",
       "      <th>V333</th>\n",
       "      <th>V334</th>\n",
       "      <th>V335</th>\n",
       "      <th>V336</th>\n",
       "      <th>V337</th>\n",
       "      <th>V338</th>\n",
       "      <th>V339</th>\n",
       "    </tr>\n",
       "  </thead>\n",
       "  <tbody>\n",
       "    <tr>\n",
       "      <td>0</td>\n",
       "      <td>2987004</td>\n",
       "      <td>0.0</td>\n",
       "      <td>70787.0</td>\n",
       "      <td>NaN</td>\n",
       "      <td>NaN</td>\n",
       "      <td>NaN</td>\n",
       "      <td>NaN</td>\n",
       "      <td>NaN</td>\n",
       "      <td>NaN</td>\n",
       "      <td>NaN</td>\n",
       "      <td>...</td>\n",
       "      <td>0.0</td>\n",
       "      <td>0.0</td>\n",
       "      <td>0.0</td>\n",
       "      <td>0.0</td>\n",
       "      <td>0.0</td>\n",
       "      <td>0.0</td>\n",
       "      <td>0.0</td>\n",
       "      <td>0.0</td>\n",
       "      <td>0.0</td>\n",
       "      <td>0.0</td>\n",
       "    </tr>\n",
       "    <tr>\n",
       "      <td>1</td>\n",
       "      <td>2987008</td>\n",
       "      <td>-5.0</td>\n",
       "      <td>98945.0</td>\n",
       "      <td>NaN</td>\n",
       "      <td>NaN</td>\n",
       "      <td>0.0</td>\n",
       "      <td>-5.0</td>\n",
       "      <td>NaN</td>\n",
       "      <td>NaN</td>\n",
       "      <td>NaN</td>\n",
       "      <td>...</td>\n",
       "      <td>0.0</td>\n",
       "      <td>0.0</td>\n",
       "      <td>0.0</td>\n",
       "      <td>0.0</td>\n",
       "      <td>0.0</td>\n",
       "      <td>0.0</td>\n",
       "      <td>0.0</td>\n",
       "      <td>0.0</td>\n",
       "      <td>0.0</td>\n",
       "      <td>0.0</td>\n",
       "    </tr>\n",
       "    <tr>\n",
       "      <td>2</td>\n",
       "      <td>2987010</td>\n",
       "      <td>-5.0</td>\n",
       "      <td>191631.0</td>\n",
       "      <td>0.0</td>\n",
       "      <td>0.0</td>\n",
       "      <td>0.0</td>\n",
       "      <td>0.0</td>\n",
       "      <td>NaN</td>\n",
       "      <td>NaN</td>\n",
       "      <td>0.0</td>\n",
       "      <td>...</td>\n",
       "      <td>NaN</td>\n",
       "      <td>NaN</td>\n",
       "      <td>NaN</td>\n",
       "      <td>NaN</td>\n",
       "      <td>NaN</td>\n",
       "      <td>NaN</td>\n",
       "      <td>NaN</td>\n",
       "      <td>NaN</td>\n",
       "      <td>NaN</td>\n",
       "      <td>NaN</td>\n",
       "    </tr>\n",
       "    <tr>\n",
       "      <td>3</td>\n",
       "      <td>2987011</td>\n",
       "      <td>-5.0</td>\n",
       "      <td>221832.0</td>\n",
       "      <td>NaN</td>\n",
       "      <td>NaN</td>\n",
       "      <td>0.0</td>\n",
       "      <td>-6.0</td>\n",
       "      <td>NaN</td>\n",
       "      <td>NaN</td>\n",
       "      <td>NaN</td>\n",
       "      <td>...</td>\n",
       "      <td>NaN</td>\n",
       "      <td>NaN</td>\n",
       "      <td>NaN</td>\n",
       "      <td>NaN</td>\n",
       "      <td>NaN</td>\n",
       "      <td>NaN</td>\n",
       "      <td>NaN</td>\n",
       "      <td>NaN</td>\n",
       "      <td>NaN</td>\n",
       "      <td>NaN</td>\n",
       "    </tr>\n",
       "    <tr>\n",
       "      <td>4</td>\n",
       "      <td>2987016</td>\n",
       "      <td>0.0</td>\n",
       "      <td>7460.0</td>\n",
       "      <td>0.0</td>\n",
       "      <td>0.0</td>\n",
       "      <td>1.0</td>\n",
       "      <td>0.0</td>\n",
       "      <td>NaN</td>\n",
       "      <td>NaN</td>\n",
       "      <td>0.0</td>\n",
       "      <td>...</td>\n",
       "      <td>0.0</td>\n",
       "      <td>0.0</td>\n",
       "      <td>0.0</td>\n",
       "      <td>0.0</td>\n",
       "      <td>0.0</td>\n",
       "      <td>0.0</td>\n",
       "      <td>0.0</td>\n",
       "      <td>0.0</td>\n",
       "      <td>0.0</td>\n",
       "      <td>0.0</td>\n",
       "    </tr>\n",
       "  </tbody>\n",
       "</table>\n",
       "<p>5 rows × 433 columns</p>\n",
       "</div>"
      ],
      "text/plain": [
       "   TransactionID  id_01     id_02  id_03  id_04  id_05  id_06  id_07  id_08  \\\n",
       "0        2987004    0.0   70787.0    NaN    NaN    NaN    NaN    NaN    NaN   \n",
       "1        2987008   -5.0   98945.0    NaN    NaN    0.0   -5.0    NaN    NaN   \n",
       "2        2987010   -5.0  191631.0    0.0    0.0    0.0    0.0    NaN    NaN   \n",
       "3        2987011   -5.0  221832.0    NaN    NaN    0.0   -6.0    NaN    NaN   \n",
       "4        2987016    0.0    7460.0    0.0    0.0    1.0    0.0    NaN    NaN   \n",
       "\n",
       "   id_09  ...  V330  V331 V332  V333  V334 V335 V336  V337  V338  V339  \n",
       "0    NaN  ...   0.0   0.0  0.0   0.0   0.0  0.0  0.0   0.0   0.0   0.0  \n",
       "1    NaN  ...   0.0   0.0  0.0   0.0   0.0  0.0  0.0   0.0   0.0   0.0  \n",
       "2    0.0  ...   NaN   NaN  NaN   NaN   NaN  NaN  NaN   NaN   NaN   NaN  \n",
       "3    NaN  ...   NaN   NaN  NaN   NaN   NaN  NaN  NaN   NaN   NaN   NaN  \n",
       "4    0.0  ...   0.0   0.0  0.0   0.0   0.0  0.0  0.0   0.0   0.0   0.0  \n",
       "\n",
       "[5 rows x 433 columns]"
      ]
     },
     "execution_count": 6,
     "metadata": {},
     "output_type": "execute_result"
    }
   ],
   "source": [
    "train_merge.head()"
   ]
  },
  {
   "cell_type": "markdown",
   "metadata": {},
   "source": [
    "### Check Null ratio\n",
    "check null ratio by column and drop columns with null ratio >= 0.77"
   ]
  },
  {
   "cell_type": "code",
   "execution_count": 7,
   "metadata": {},
   "outputs": [
    {
     "data": {
      "text/plain": [
       "id_03    0.887689\n",
       "id_04    0.887689\n",
       "id_07    0.991271\n",
       "id_08    0.991271\n",
       "id_09    0.873123\n",
       "           ...   \n",
       "V335     0.860550\n",
       "V336     0.860550\n",
       "V337     0.860550\n",
       "V338     0.860550\n",
       "V339     0.860550\n",
       "Length: 122, dtype: float64"
      ]
     },
     "execution_count": 7,
     "metadata": {},
     "output_type": "execute_result"
    }
   ],
   "source": [
    "# Check NULL ratio >= 0.77\n",
    "check_null = train_merge.isna().sum() / len(train_merge)\n",
    "check_null[check_null >= 0.77]"
   ]
  },
  {
   "cell_type": "code",
   "execution_count": 8,
   "metadata": {},
   "outputs": [
    {
     "name": "stdout",
     "output_type": "stream",
     "text": [
      "(590540, 312)\n",
      "(506691, 311)\n"
     ]
    }
   ],
   "source": [
    "# remove cols of null ratio >= 0.77\n",
    "remove_cols = list(check_null[check_null >= 0.77].keys())\n",
    "not_remove_cols = ['id_30','id_31','R_emaildomain','P_emaildomain','ProductCD','card4','card6','DeviceType']\n",
    "\n",
    "for col in not_remove_cols:\n",
    "    if col in remove_cols:\n",
    "        remove_cols.remove(col)\n",
    "    else:\n",
    "        pass\n",
    "\n",
    "train_merge = train_merge.drop(remove_cols, axis=1)\n",
    "test_merge = test_merge.drop(remove_cols, axis=1)\n",
    "print(train_merge.shape)\n",
    "print(test_merge.shape)"
   ]
  },
  {
   "cell_type": "code",
   "execution_count": 9,
   "metadata": {},
   "outputs": [
    {
     "data": {
      "text/html": [
       "<div>\n",
       "<style scoped>\n",
       "    .dataframe tbody tr th:only-of-type {\n",
       "        vertical-align: middle;\n",
       "    }\n",
       "\n",
       "    .dataframe tbody tr th {\n",
       "        vertical-align: top;\n",
       "    }\n",
       "\n",
       "    .dataframe thead th {\n",
       "        text-align: right;\n",
       "    }\n",
       "</style>\n",
       "<table border=\"1\" class=\"dataframe\">\n",
       "  <thead>\n",
       "    <tr style=\"text-align: right;\">\n",
       "      <th></th>\n",
       "      <th>TransactionID</th>\n",
       "      <th>id_01</th>\n",
       "      <th>id_02</th>\n",
       "      <th>id_05</th>\n",
       "      <th>id_06</th>\n",
       "      <th>id_11</th>\n",
       "      <th>id_12</th>\n",
       "      <th>id_15</th>\n",
       "      <th>id_17</th>\n",
       "      <th>id_19</th>\n",
       "      <th>...</th>\n",
       "      <th>V312</th>\n",
       "      <th>V313</th>\n",
       "      <th>V314</th>\n",
       "      <th>V315</th>\n",
       "      <th>V316</th>\n",
       "      <th>V317</th>\n",
       "      <th>V318</th>\n",
       "      <th>V319</th>\n",
       "      <th>V320</th>\n",
       "      <th>V321</th>\n",
       "    </tr>\n",
       "  </thead>\n",
       "  <tbody>\n",
       "    <tr>\n",
       "      <td>0</td>\n",
       "      <td>2987004</td>\n",
       "      <td>0.0</td>\n",
       "      <td>70787.0</td>\n",
       "      <td>NaN</td>\n",
       "      <td>NaN</td>\n",
       "      <td>100.0</td>\n",
       "      <td>NotFound</td>\n",
       "      <td>New</td>\n",
       "      <td>166.0</td>\n",
       "      <td>542.0</td>\n",
       "      <td>...</td>\n",
       "      <td>0.000000</td>\n",
       "      <td>0.000000</td>\n",
       "      <td>0.000000</td>\n",
       "      <td>0.000000</td>\n",
       "      <td>0.0</td>\n",
       "      <td>0.0</td>\n",
       "      <td>0.0</td>\n",
       "      <td>0.000000</td>\n",
       "      <td>0.000000</td>\n",
       "      <td>0.000000</td>\n",
       "    </tr>\n",
       "    <tr>\n",
       "      <td>1</td>\n",
       "      <td>2987008</td>\n",
       "      <td>-5.0</td>\n",
       "      <td>98945.0</td>\n",
       "      <td>0.0</td>\n",
       "      <td>-5.0</td>\n",
       "      <td>100.0</td>\n",
       "      <td>NotFound</td>\n",
       "      <td>New</td>\n",
       "      <td>166.0</td>\n",
       "      <td>621.0</td>\n",
       "      <td>...</td>\n",
       "      <td>0.000000</td>\n",
       "      <td>0.000000</td>\n",
       "      <td>0.000000</td>\n",
       "      <td>0.000000</td>\n",
       "      <td>0.0</td>\n",
       "      <td>0.0</td>\n",
       "      <td>0.0</td>\n",
       "      <td>0.000000</td>\n",
       "      <td>0.000000</td>\n",
       "      <td>0.000000</td>\n",
       "    </tr>\n",
       "    <tr>\n",
       "      <td>2</td>\n",
       "      <td>2987010</td>\n",
       "      <td>-5.0</td>\n",
       "      <td>191631.0</td>\n",
       "      <td>0.0</td>\n",
       "      <td>0.0</td>\n",
       "      <td>100.0</td>\n",
       "      <td>NotFound</td>\n",
       "      <td>Found</td>\n",
       "      <td>121.0</td>\n",
       "      <td>410.0</td>\n",
       "      <td>...</td>\n",
       "      <td>90.327904</td>\n",
       "      <td>90.327904</td>\n",
       "      <td>90.327904</td>\n",
       "      <td>90.327904</td>\n",
       "      <td>0.0</td>\n",
       "      <td>0.0</td>\n",
       "      <td>0.0</td>\n",
       "      <td>75.887497</td>\n",
       "      <td>75.887497</td>\n",
       "      <td>75.887497</td>\n",
       "    </tr>\n",
       "    <tr>\n",
       "      <td>3</td>\n",
       "      <td>2987011</td>\n",
       "      <td>-5.0</td>\n",
       "      <td>221832.0</td>\n",
       "      <td>0.0</td>\n",
       "      <td>-6.0</td>\n",
       "      <td>100.0</td>\n",
       "      <td>NotFound</td>\n",
       "      <td>New</td>\n",
       "      <td>225.0</td>\n",
       "      <td>176.0</td>\n",
       "      <td>...</td>\n",
       "      <td>0.000000</td>\n",
       "      <td>0.000000</td>\n",
       "      <td>0.000000</td>\n",
       "      <td>0.000000</td>\n",
       "      <td>0.0</td>\n",
       "      <td>0.0</td>\n",
       "      <td>0.0</td>\n",
       "      <td>0.000000</td>\n",
       "      <td>0.000000</td>\n",
       "      <td>0.000000</td>\n",
       "    </tr>\n",
       "    <tr>\n",
       "      <td>4</td>\n",
       "      <td>2987016</td>\n",
       "      <td>0.0</td>\n",
       "      <td>7460.0</td>\n",
       "      <td>1.0</td>\n",
       "      <td>0.0</td>\n",
       "      <td>100.0</td>\n",
       "      <td>NotFound</td>\n",
       "      <td>Found</td>\n",
       "      <td>166.0</td>\n",
       "      <td>529.0</td>\n",
       "      <td>...</td>\n",
       "      <td>0.000000</td>\n",
       "      <td>0.000000</td>\n",
       "      <td>0.000000</td>\n",
       "      <td>0.000000</td>\n",
       "      <td>0.0</td>\n",
       "      <td>0.0</td>\n",
       "      <td>0.0</td>\n",
       "      <td>0.000000</td>\n",
       "      <td>0.000000</td>\n",
       "      <td>0.000000</td>\n",
       "    </tr>\n",
       "  </tbody>\n",
       "</table>\n",
       "<p>5 rows × 312 columns</p>\n",
       "</div>"
      ],
      "text/plain": [
       "   TransactionID  id_01     id_02  id_05  id_06  id_11     id_12  id_15  \\\n",
       "0        2987004    0.0   70787.0    NaN    NaN  100.0  NotFound    New   \n",
       "1        2987008   -5.0   98945.0    0.0   -5.0  100.0  NotFound    New   \n",
       "2        2987010   -5.0  191631.0    0.0    0.0  100.0  NotFound  Found   \n",
       "3        2987011   -5.0  221832.0    0.0   -6.0  100.0  NotFound    New   \n",
       "4        2987016    0.0    7460.0    1.0    0.0  100.0  NotFound  Found   \n",
       "\n",
       "   id_17  id_19  ...       V312       V313       V314       V315 V316 V317  \\\n",
       "0  166.0  542.0  ...   0.000000   0.000000   0.000000   0.000000  0.0  0.0   \n",
       "1  166.0  621.0  ...   0.000000   0.000000   0.000000   0.000000  0.0  0.0   \n",
       "2  121.0  410.0  ...  90.327904  90.327904  90.327904  90.327904  0.0  0.0   \n",
       "3  225.0  176.0  ...   0.000000   0.000000   0.000000   0.000000  0.0  0.0   \n",
       "4  166.0  529.0  ...   0.000000   0.000000   0.000000   0.000000  0.0  0.0   \n",
       "\n",
       "  V318       V319       V320       V321  \n",
       "0  0.0   0.000000   0.000000   0.000000  \n",
       "1  0.0   0.000000   0.000000   0.000000  \n",
       "2  0.0  75.887497  75.887497  75.887497  \n",
       "3  0.0   0.000000   0.000000   0.000000  \n",
       "4  0.0   0.000000   0.000000   0.000000  \n",
       "\n",
       "[5 rows x 312 columns]"
      ]
     },
     "execution_count": 9,
     "metadata": {},
     "output_type": "execute_result"
    }
   ],
   "source": [
    "train_merge.head()"
   ]
  },
  {
   "cell_type": "markdown",
   "metadata": {},
   "source": [
    "### Fill Na by column type"
   ]
  },
  {
   "cell_type": "code",
   "execution_count": 10,
   "metadata": {},
   "outputs": [
    {
     "name": "stdout",
     "output_type": "stream",
     "text": [
      "Columns of Object Type\n",
      "['id_12' 'id_15' 'id_28' 'id_29' 'id_30' 'id_31' 'id_35' 'id_36' 'id_37'\n",
      " 'id_38' 'DeviceType' 'ProductCD' 'card4' 'card6' 'P_emaildomain'\n",
      " 'R_emaildomain' 'M1' 'M2' 'M3' 'M4' 'M5' 'M6' 'M7' 'M8' 'M9']\n"
     ]
    }
   ],
   "source": [
    "# select types\n",
    "object_cols = train_merge.select_dtypes(include='object').columns\n",
    "nobject_cols = train_merge.select_dtypes(exclude='object').columns\n",
    "\n",
    "print('Columns of Object Type\\n{}'.format(object_cols.values))"
   ]
  },
  {
   "cell_type": "code",
   "execution_count": 11,
   "metadata": {},
   "outputs": [],
   "source": [
    "train_merge[object_cols] = train_merge[object_cols].fillna('NaN')\n",
    "train_merge[nobject_cols] = train_merge[nobject_cols].fillna(0)\n",
    "\n",
    "test_merge[object_cols] = test_merge[object_cols].fillna('NaN')\n",
    "nobject_cols = list(nobject_cols)\n",
    "nobject_cols.remove('isFraud')\n",
    "test_merge[nobject_cols] = test_merge[nobject_cols].fillna(0)"
   ]
  },
  {
   "cell_type": "code",
   "execution_count": 12,
   "metadata": {},
   "outputs": [
    {
     "data": {
      "text/html": [
       "<div>\n",
       "<style scoped>\n",
       "    .dataframe tbody tr th:only-of-type {\n",
       "        vertical-align: middle;\n",
       "    }\n",
       "\n",
       "    .dataframe tbody tr th {\n",
       "        vertical-align: top;\n",
       "    }\n",
       "\n",
       "    .dataframe thead th {\n",
       "        text-align: right;\n",
       "    }\n",
       "</style>\n",
       "<table border=\"1\" class=\"dataframe\">\n",
       "  <thead>\n",
       "    <tr style=\"text-align: right;\">\n",
       "      <th></th>\n",
       "      <th>TransactionID</th>\n",
       "      <th>id_01</th>\n",
       "      <th>id_02</th>\n",
       "      <th>id_05</th>\n",
       "      <th>id_06</th>\n",
       "      <th>id_11</th>\n",
       "      <th>id_12</th>\n",
       "      <th>id_15</th>\n",
       "      <th>id_17</th>\n",
       "      <th>id_19</th>\n",
       "      <th>...</th>\n",
       "      <th>V312</th>\n",
       "      <th>V313</th>\n",
       "      <th>V314</th>\n",
       "      <th>V315</th>\n",
       "      <th>V316</th>\n",
       "      <th>V317</th>\n",
       "      <th>V318</th>\n",
       "      <th>V319</th>\n",
       "      <th>V320</th>\n",
       "      <th>V321</th>\n",
       "    </tr>\n",
       "  </thead>\n",
       "  <tbody>\n",
       "    <tr>\n",
       "      <td>0</td>\n",
       "      <td>2987004</td>\n",
       "      <td>0.0</td>\n",
       "      <td>70787.0</td>\n",
       "      <td>0.0</td>\n",
       "      <td>0.0</td>\n",
       "      <td>100.0</td>\n",
       "      <td>NotFound</td>\n",
       "      <td>New</td>\n",
       "      <td>166.0</td>\n",
       "      <td>542.0</td>\n",
       "      <td>...</td>\n",
       "      <td>0.000000</td>\n",
       "      <td>0.000000</td>\n",
       "      <td>0.000000</td>\n",
       "      <td>0.000000</td>\n",
       "      <td>0.0</td>\n",
       "      <td>0.0</td>\n",
       "      <td>0.0</td>\n",
       "      <td>0.000000</td>\n",
       "      <td>0.000000</td>\n",
       "      <td>0.000000</td>\n",
       "    </tr>\n",
       "    <tr>\n",
       "      <td>1</td>\n",
       "      <td>2987008</td>\n",
       "      <td>-5.0</td>\n",
       "      <td>98945.0</td>\n",
       "      <td>0.0</td>\n",
       "      <td>-5.0</td>\n",
       "      <td>100.0</td>\n",
       "      <td>NotFound</td>\n",
       "      <td>New</td>\n",
       "      <td>166.0</td>\n",
       "      <td>621.0</td>\n",
       "      <td>...</td>\n",
       "      <td>0.000000</td>\n",
       "      <td>0.000000</td>\n",
       "      <td>0.000000</td>\n",
       "      <td>0.000000</td>\n",
       "      <td>0.0</td>\n",
       "      <td>0.0</td>\n",
       "      <td>0.0</td>\n",
       "      <td>0.000000</td>\n",
       "      <td>0.000000</td>\n",
       "      <td>0.000000</td>\n",
       "    </tr>\n",
       "    <tr>\n",
       "      <td>2</td>\n",
       "      <td>2987010</td>\n",
       "      <td>-5.0</td>\n",
       "      <td>191631.0</td>\n",
       "      <td>0.0</td>\n",
       "      <td>0.0</td>\n",
       "      <td>100.0</td>\n",
       "      <td>NotFound</td>\n",
       "      <td>Found</td>\n",
       "      <td>121.0</td>\n",
       "      <td>410.0</td>\n",
       "      <td>...</td>\n",
       "      <td>90.327904</td>\n",
       "      <td>90.327904</td>\n",
       "      <td>90.327904</td>\n",
       "      <td>90.327904</td>\n",
       "      <td>0.0</td>\n",
       "      <td>0.0</td>\n",
       "      <td>0.0</td>\n",
       "      <td>75.887497</td>\n",
       "      <td>75.887497</td>\n",
       "      <td>75.887497</td>\n",
       "    </tr>\n",
       "    <tr>\n",
       "      <td>3</td>\n",
       "      <td>2987011</td>\n",
       "      <td>-5.0</td>\n",
       "      <td>221832.0</td>\n",
       "      <td>0.0</td>\n",
       "      <td>-6.0</td>\n",
       "      <td>100.0</td>\n",
       "      <td>NotFound</td>\n",
       "      <td>New</td>\n",
       "      <td>225.0</td>\n",
       "      <td>176.0</td>\n",
       "      <td>...</td>\n",
       "      <td>0.000000</td>\n",
       "      <td>0.000000</td>\n",
       "      <td>0.000000</td>\n",
       "      <td>0.000000</td>\n",
       "      <td>0.0</td>\n",
       "      <td>0.0</td>\n",
       "      <td>0.0</td>\n",
       "      <td>0.000000</td>\n",
       "      <td>0.000000</td>\n",
       "      <td>0.000000</td>\n",
       "    </tr>\n",
       "    <tr>\n",
       "      <td>4</td>\n",
       "      <td>2987016</td>\n",
       "      <td>0.0</td>\n",
       "      <td>7460.0</td>\n",
       "      <td>1.0</td>\n",
       "      <td>0.0</td>\n",
       "      <td>100.0</td>\n",
       "      <td>NotFound</td>\n",
       "      <td>Found</td>\n",
       "      <td>166.0</td>\n",
       "      <td>529.0</td>\n",
       "      <td>...</td>\n",
       "      <td>0.000000</td>\n",
       "      <td>0.000000</td>\n",
       "      <td>0.000000</td>\n",
       "      <td>0.000000</td>\n",
       "      <td>0.0</td>\n",
       "      <td>0.0</td>\n",
       "      <td>0.0</td>\n",
       "      <td>0.000000</td>\n",
       "      <td>0.000000</td>\n",
       "      <td>0.000000</td>\n",
       "    </tr>\n",
       "  </tbody>\n",
       "</table>\n",
       "<p>5 rows × 312 columns</p>\n",
       "</div>"
      ],
      "text/plain": [
       "   TransactionID  id_01     id_02  id_05  id_06  id_11     id_12  id_15  \\\n",
       "0        2987004    0.0   70787.0    0.0    0.0  100.0  NotFound    New   \n",
       "1        2987008   -5.0   98945.0    0.0   -5.0  100.0  NotFound    New   \n",
       "2        2987010   -5.0  191631.0    0.0    0.0  100.0  NotFound  Found   \n",
       "3        2987011   -5.0  221832.0    0.0   -6.0  100.0  NotFound    New   \n",
       "4        2987016    0.0    7460.0    1.0    0.0  100.0  NotFound  Found   \n",
       "\n",
       "   id_17  id_19  ...       V312       V313       V314       V315 V316 V317  \\\n",
       "0  166.0  542.0  ...   0.000000   0.000000   0.000000   0.000000  0.0  0.0   \n",
       "1  166.0  621.0  ...   0.000000   0.000000   0.000000   0.000000  0.0  0.0   \n",
       "2  121.0  410.0  ...  90.327904  90.327904  90.327904  90.327904  0.0  0.0   \n",
       "3  225.0  176.0  ...   0.000000   0.000000   0.000000   0.000000  0.0  0.0   \n",
       "4  166.0  529.0  ...   0.000000   0.000000   0.000000   0.000000  0.0  0.0   \n",
       "\n",
       "  V318       V319       V320       V321  \n",
       "0  0.0   0.000000   0.000000   0.000000  \n",
       "1  0.0   0.000000   0.000000   0.000000  \n",
       "2  0.0  75.887497  75.887497  75.887497  \n",
       "3  0.0   0.000000   0.000000   0.000000  \n",
       "4  0.0   0.000000   0.000000   0.000000  \n",
       "\n",
       "[5 rows x 312 columns]"
      ]
     },
     "execution_count": 12,
     "metadata": {},
     "output_type": "execute_result"
    }
   ],
   "source": [
    "train_merge.head()"
   ]
  },
  {
   "cell_type": "markdown",
   "metadata": {},
   "source": [
    "## EDA\n",
    "- Ratio of isFraud by column\n",
    "- Distribution of TransactionAmt by isFraud\n",
    "- Distribution of TransactionAmt by DeviceType"
   ]
  },
  {
   "cell_type": "markdown",
   "metadata": {},
   "source": [
    "#### Ratio of isFraud by column"
   ]
  },
  {
   "cell_type": "code",
   "execution_count": 13,
   "metadata": {},
   "outputs": [
    {
     "name": "stdout",
     "output_type": "stream",
     "text": [
      "Ratio of isFraud 0 : 96.5 %\n",
      "Ratio of isFraud 1 : 3.5 %\n"
     ]
    },
    {
     "data": {
      "image/png": "[encoded data removed]",
      "text/plain": [
       "<Figure size 504x288 with 1 Axes>"
      ]
     },
     "metadata": {
      "needs_background": "light"
     },
     "output_type": "display_data"
    }
   ],
   "source": [
    "# Ratio of isFraud(target value)\n",
    "isfraud_values = train_merge['isFraud'].value_counts().values\n",
    "isfraud_0 = (isfraud_values[0] / len(train_merge['isFraud'])) * 100\n",
    "isfraud_1 = (isfraud_values[1] / len(train_merge['isFraud'])) * 100\n",
    "print('Ratio of isFraud 0 : {:.1f} %'.format(isfraud_0))\n",
    "print('Ratio of isFraud 1 : {:.1f} %'.format(isfraud_1))\n",
    "\n",
    "# plot\n",
    "plt.figure(figsize=(7, 4))\n",
    "sns.countplot(x='isFraud', data=train_merge)\n",
    "plt.xlabel('isFraud'); plt.ylabel('Count')\n",
    "plt.title('Count of Target Value'); plt.show()"
   ]
  },
  {
   "cell_type": "code",
   "execution_count": 14,
   "metadata": {},
   "outputs": [
    {
     "data": {
      "image/png": "[encoded data removed]",
      "text/plain": [
       "<Figure size 792x1080 with 4 Axes>"
      ]
     },
     "metadata": {
      "needs_background": "light"
     },
     "output_type": "display_data"
    }
   ],
   "source": [
    "cols = ['DeviceType', 'ProductCD', 'card4', 'card6']\n",
    "plt.figure(figsize=(11, 15))\n",
    "for i, col in enumerate(cols):\n",
    "    plt.subplot(len(cols), 1, i+1)\n",
    "    sns.countplot(x=col,  hue='isFraud', data=train_merge)\n",
    "    plt.title('Count by '+str(col))\n",
    "    plt.tight_layout()"
   ]
  },
  {
   "cell_type": "markdown",
   "metadata": {},
   "source": [
    "#### Distribution of TransactionAmt by isFraud"
   ]
  },
  {
   "cell_type": "code",
   "execution_count": 15,
   "metadata": {},
   "outputs": [
    {
     "name": "stderr",
     "output_type": "stream",
     "text": [
      "C:\\Miniconda3\\lib\\site-packages\\ipykernel_launcher.py:5: UserWarning: Boolean Series key will be reindexed to match DataFrame index.\n",
      "  \"\"\"\n"
     ]
    },
    {
     "data": {
      "image/png": "[encoded data removed]",
      "text/plain": [
       "<Figure size 792x576 with 2 Axes>"
      ]
     },
     "metadata": {
      "needs_background": "light"
     },
     "output_type": "display_data"
    }
   ],
   "source": [
    "# Distribution of TransactionAmt by isFraud\n",
    "plt.figure(figsize=(11, 8))\n",
    "for i in [0, 1]:\n",
    "    plt.subplot(2,1, i+1)\n",
    "    sns.distplot(train_merge[train_merge['isFraud'] == i][train_merge['TransactionAmt'] <=700]['TransactionAmt'])\n",
    "    plt.title('Distribution of TransactionAmt by isFraud '+str(i))\n",
    "    plt.tight_layout()"
   ]
  },
  {
   "cell_type": "markdown",
   "metadata": {},
   "source": [
    "#### Distribution of TransactionAmt by DeviceType"
   ]
  },
  {
   "cell_type": "code",
   "execution_count": 16,
   "metadata": {},
   "outputs": [
    {
     "name": "stderr",
     "output_type": "stream",
     "text": [
      "C:\\Miniconda3\\lib\\site-packages\\ipykernel_launcher.py:6: UserWarning: Boolean Series key will be reindexed to match DataFrame index.\n",
      "  \n"
     ]
    },
    {
     "data": {
      "image/png": "[encoded data removed]",
      "text/plain": [
       "<Figure size 792x576 with 3 Axes>"
      ]
     },
     "metadata": {
      "needs_background": "light"
     },
     "output_type": "display_data"
    }
   ],
   "source": [
    "# Distribution of TransactionAmt by DeviceType\n",
    "devicetype = train_merge['DeviceType'].unique()\n",
    "plt.figure(figsize=(11, 8))\n",
    "for i, device in enumerate(devicetype):\n",
    "    plt.subplot(len(devicetype), 1, i+1)\n",
    "    sns.distplot(train_merge[train_merge['DeviceType'] == device][train_merge['TransactionAmt'] <=700]['TransactionAmt'])\n",
    "    plt.title('Distribution of TransactionAmt by '+str(device))\n",
    "    plt.tight_layout()"
   ]
  },
  {
   "cell_type": "code",
   "execution_count": 17,
   "metadata": {},
   "outputs": [
    {
     "name": "stderr",
     "output_type": "stream",
     "text": [
      "C:\\Miniconda3\\lib\\site-packages\\ipykernel_launcher.py:5: UserWarning: Boolean Series key will be reindexed to match DataFrame index.\n",
      "  \"\"\"\n"
     ]
    },
    {
     "data": {
      "image/png": "[encoded data removed]",
      "text/plain": [
       "<Figure size 792x648 with 5 Axes>"
      ]
     },
     "metadata": {
      "needs_background": "light"
     },
     "output_type": "display_data"
    }
   ],
   "source": [
    "productcd = train_merge['ProductCD'].unique()\n",
    "plt.figure(figsize=(11, 9))\n",
    "for i, cd in enumerate(productcd):\n",
    "    plt.subplot(len(productcd), 1, i+1)\n",
    "    sns.distplot(train_merge[train_merge['ProductCD']==cd][train_merge['TransactionAmt'] <=700]['TransactionAmt'])\n",
    "    plt.title('Distribution of TransactionAmt by '+str(cd))\n",
    "    plt.tight_layout()"
   ]
  },
  {
   "cell_type": "markdown",
   "metadata": {},
   "source": [
    "## Data Preprocessing"
   ]
  },
  {
   "cell_type": "markdown",
   "metadata": {},
   "source": [
    "#### Data Simplication\n",
    "- mobile os / browers / email domain"
   ]
  },
  {
   "cell_type": "code",
   "execution_count": 18,
   "metadata": {},
   "outputs": [
    {
     "name": "stdout",
     "output_type": "stream",
     "text": [
      "id_30 : ['Android 7.0' 'iOS 11.1.2' 'NaN' 'Mac OS X 10_11_6' 'Windows 10'\n",
      " 'Android' 'Linux' 'iOS 11.0.3' 'Mac OS X 10_7_5' 'Mac OS X 10_12_6'\n",
      " 'Mac OS X 10_13_1' 'iOS 11.1.0' 'Mac OS X 10_9_5' 'Windows 7'\n",
      " 'Windows 8.1' 'Mac' 'iOS 10.3.3' 'Mac OS X 10.12' 'Mac OS X 10_10_5'\n",
      " 'Mac OS X 10_11_5' 'iOS 9.3.5' 'Android 5.1.1' 'Android 7.1.1'\n",
      " 'Android 6.0' 'iOS 10.3.1' 'Mac OS X 10.9' 'iOS 11.1.1' 'Windows Vista'\n",
      " 'iOS 10.3.2' 'iOS 11.0.2' 'Mac OS X 10.11' 'Android 8.0.0' 'iOS 10.2.0'\n",
      " 'iOS 10.2.1' 'iOS 11.0.0' 'Mac OS X 10.10' 'Mac OS X 10_12_3'\n",
      " 'Mac OS X 10_12' 'Android 6.0.1' 'iOS' 'Mac OS X 10.13'\n",
      " 'Mac OS X 10_12_5' 'Mac OS X 10_8_5' 'iOS 11.0.1' 'iOS 10.0.2'\n",
      " 'Android 5.0.2' 'Windows XP' 'iOS 11.2.0' 'Mac OS X 10.6' 'Windows 8'\n",
      " 'Mac OS X 10_6_8' 'Mac OS X 10_11_4' 'Mac OS X 10_12_1' 'iOS 10.1.1'\n",
      " 'Mac OS X 10_11_3' 'Mac OS X 10_12_4' 'Mac OS X 10_13_2' 'Android 4.4.2'\n",
      " 'Mac OS X 10_12_2' 'Android 5.0' 'func' 'Android 7.1.2' 'Android 8.1.0'\n",
      " 'other' 'Mac OS X 10_13_3' 'iOS 11.2.1' 'iOS 11.2.5' 'Windows'\n",
      " 'iOS 11.2.2' 'iOS 11.3.0' 'iOS 11.2.6' 'Mac OS X 10_13_4'\n",
      " 'Mac OS X 10_13_5' 'iOS 11.4.0' 'iOS 11.3.1' 'iOS 11.4.1']\n",
      "\n",
      "id_31 : ['samsung browser 6.2' 'mobile safari 11.0' 'chrome 62.0' 'NaN'\n",
      " 'chrome 62.0 for android' 'edge 15.0' 'mobile safari generic'\n",
      " 'chrome 49.0' 'chrome 61.0' 'edge 16.0' 'safari generic' 'edge 14.0'\n",
      " 'chrome 56.0 for android' 'firefox 57.0' 'chrome 54.0 for android'\n",
      " 'mobile safari uiwebview' 'chrome' 'chrome 62.0 for ios' 'firefox'\n",
      " 'chrome 60.0 for android' 'mobile safari 10.0' 'chrome 61.0 for android'\n",
      " 'ie 11.0 for desktop' 'ie 11.0 for tablet' 'mobile safari 9.0'\n",
      " 'chrome generic' 'other' 'chrome 59.0 for android' 'firefox 56.0'\n",
      " 'android webview 4.0' 'chrome 55.0' 'opera 49.0' 'ie'\n",
      " 'chrome 55.0 for android' 'firefox 52.0' 'chrome 57.0 for android'\n",
      " 'chrome 56.0' 'chrome 46.0 for android' 'chrome 58.0' 'firefox 48.0'\n",
      " 'chrome 59.0' 'samsung browser 4.0' 'edge 13.0' 'chrome 53.0 for android'\n",
      " 'chrome 58.0 for android' 'chrome 60.0' 'mobile safari 8.0'\n",
      " 'firefox generic' 'Generic/Android 7.0' 'mobile' 'Samsung/SM-G532M'\n",
      " 'chrome 50.0 for android' 'chrome 51.0 for android' 'chrome 63.0'\n",
      " 'chrome 52.0 for android' 'chrome 51.0' 'firefox 55.0' 'edge' 'opera'\n",
      " 'chrome generic for android' 'aol' 'samsung browser 5.4' 'Samsung/SCH'\n",
      " 'silk' 'chrome 57.0' 'firefox 47.0' 'chrome 63.0 for android'\n",
      " 'Samsung/SM-G531H' 'chrome 43.0 for android' 'waterfox' 'Nokia/Lumia'\n",
      " 'chrome 63.0 for ios' 'puffin' 'Microsoft/Windows' 'cyberfox'\n",
      " 'Generic/Android' 'samsung' 'opera generic' 'chrome 49.0 for android'\n",
      " 'ZTE/Blade' 'safari' 'android browser 4.0' 'samsung browser 5.2'\n",
      " 'palemoon' 'maxthon' 'line' 'LG/K-200' 'iron' 'BLU/Dash' 'seamonkey'\n",
      " 'firefox 58.0' 'chrome 64.0 for android' 'chrome 64.0' 'firefox 59.0'\n",
      " 'chrome 64.0 for ios' 'M4Tel/M4' 'comodo' 'Lanix/Ilium'\n",
      " 'samsung browser generic' 'chromium' 'opera 51.0' 'Inco/Minion'\n",
      " 'samsung browser 7.0' 'Mozilla/Firefox' 'samsung browser 4.2'\n",
      " 'samsung browser 6.4' 'chrome 65.0' 'chrome 65.0 for android'\n",
      " 'chrome 65.0 for ios' 'Cherry' 'icedragon' 'android' 'edge 17.0'\n",
      " 'chrome 66.0' 'chrome 66.0 for android' 'safari 11.0' 'safari 9.0'\n",
      " 'safari 10.0' 'google' 'chrome 66.0 for ios'\n",
      " 'google search application 48.0' 'opera 52.0' 'firefox 60.0' 'opera 53.0'\n",
      " 'samsung browser 3.3' 'google search application 49.0' 'facebook'\n",
      " 'firefox mobile 61.0' 'chrome 67.0' 'chrome 69.0'\n",
      " 'chrome 67.0 for android']\n",
      "\n",
      "P_emaildomain : ['gmail.com' 'anonymous.com' 'hotmail.com' 'aol.com' 'yahoo.com' 'NaN'\n",
      " 'outlook.com' 'charter.net' 'comcast.net' 'optonline.net'\n",
      " 'embarqmail.com' 'live.com.mx' 'icloud.com' 'juno.com' 'att.net'\n",
      " 'msn.com' 'yahoo.com.mx' 'cox.net' 'servicios-ta.com' 'me.com'\n",
      " 'hotmail.es' 'live.com' 'verizon.net' 'bellsouth.net' 'sbcglobal.net'\n",
      " 'gmx.de' 'mail.com' 'frontier.com' 'frontiernet.net' 'outlook.es'\n",
      " 'suddenlink.net' 'roadrunner.com' 'mac.com' 'earthlink.net' 'web.de'\n",
      " 'twc.com' 'ymail.com' 'yahoo.fr' 'yahoo.de' 'windstream.net' 'gmail'\n",
      " 'rocketmail.com' 'cfl.rr.com' 'yahoo.es' 'live.fr' 'q.com'\n",
      " 'prodigy.net.mx' 'yahoo.co.uk' 'hotmail.fr' 'hotmail.de' 'netzero.net'\n",
      " 'cableone.net' 'aim.com' 'ptd.net' 'centurylink.net' 'hotmail.co.uk'\n",
      " 'netzero.com' 'sc.rr.com' 'yahoo.co.jp' 'protonmail.com']\n",
      "\n",
      "R_emaildomain : ['NaN' 'gmail.com' 'hotmail.com' 'outlook.com' 'anonymous.com'\n",
      " 'charter.net' 'comcast.net' 'live.com.mx' 'icloud.com' 'yahoo.com'\n",
      " 'aol.com' 'juno.com' 'att.net' 'verizon.net' 'yahoo.com.mx'\n",
      " 'bellsouth.net' 'servicios-ta.com' 'ymail.com' 'hotmail.es' 'msn.com'\n",
      " 'optonline.net' 'live.com' 'gmx.de' 'aim.com' 'mail.com' 'me.com'\n",
      " 'outlook.es' 'cox.net' 'earthlink.net' 'embarqmail.com' 'web.de'\n",
      " 'sbcglobal.net' 'scranton.edu' 'mac.com' 'twc.com' 'roadrunner.com'\n",
      " 'yahoo.fr' 'yahoo.de' 'yahoo.es' 'frontiernet.net' 'gmail' 'live.fr'\n",
      " 'q.com' 'prodigy.net.mx' 'yahoo.co.uk' 'windstream.net' 'suddenlink.net'\n",
      " 'hotmail.fr' 'ptd.net' 'hotmail.de' 'frontier.com' 'cfl.rr.com'\n",
      " 'hotmail.co.uk' 'netzero.com' 'netzero.net' 'yahoo.co.jp'\n",
      " 'rocketmail.com' 'centurylink.net' 'protonmail.com' 'cableone.net'\n",
      " 'sc.rr.com']\n",
      "\n"
     ]
    }
   ],
   "source": [
    "# unique한 특성이 너무 많아 데이터 단순화 필요 \n",
    "print('id_30 : {}'.format(train_merge['id_30'].unique())+'\\n')\n",
    "print('id_31 : {}'.format(train_merge['id_31'].unique())+'\\n')\n",
    "print('P_emaildomain : {}'.format(train_merge['P_emaildomain'].unique())+'\\n')\n",
    "print('R_emaildomain : {}'.format(train_merge['R_emaildomain'].unique())+'\\n')"
   ]
  },
  {
   "cell_type": "code",
   "execution_count": 19,
   "metadata": {},
   "outputs": [],
   "source": [
    "def simplify_categorical(data):\n",
    "    mobile_os = [i.split(' ')[0] for i in data['id_30']]\n",
    "    browser = []\n",
    "    for i in data['id_31']:\n",
    "        if i.split(' ')[0] == 'mobile' and len(i.split(' ')) > 1: # ex. mobile safari 10.0, mobile safari generic, ...\n",
    "            browser.append(i.split(' ')[1])\n",
    "        elif i.split('/')[0] == 'Samsung':    # ex. Samsung/SM-G532M, Samsung/SCH, Samsung/SM-G531H,\n",
    "            browser.append('samsung')\n",
    "        elif i.split('/')[0] == 'Microsoft':  # ex. Microsoft/Windows\n",
    "            browser.append('ie')\n",
    "        elif i.split('/')[0] == 'Mozilla':    # ex. Mozilla/Firefox\n",
    "            browser.append('firefox')\n",
    "        elif i.split('/')[0] == 'Generic':    # ex. Generic/Android\n",
    "            browser.append('android')\n",
    "        elif len(i.split(' ')) >= 1:          # ex. edge 14.0, android brower 4.0, Chrome 63.0 for Android, ...\n",
    "            browser.append(i.split(' ')[0])\n",
    "        else:\n",
    "            browser.append(i)                  # android, chrome, edge, google, le, ...\n",
    "    p_emaildomain = [i.split('.')[0] for i in data['P_emaildomain']]\n",
    "    r_emaildomain = [i.split('.')[0] for i in data['R_emaildomain']]\n",
    "    \n",
    "    data['id_30'] = [i.lower() for i in mobile_os]\n",
    "    data['id_31'] = [i.lower() for i in browser]\n",
    "    data['P_emaildomain'] = [i.lower() for i in p_emaildomain]\n",
    "    data['R_emaildomain'] = [i.lower() for i in r_emaildomain]\n",
    "    \n",
    "    return data\n",
    "\n",
    "train = simplify_categorical(train_merge)\n",
    "train_target = train['isFraud']\n",
    "train = train.drop('isFraud', axis=1)\n",
    "test = simplify_categorical(test_merge)\n",
    "\n",
    "del train_merge, test_merge"
   ]
  },
  {
   "cell_type": "code",
   "execution_count": 20,
   "metadata": {},
   "outputs": [
    {
     "name": "stdout",
     "output_type": "stream",
     "text": [
      "id_30 : ['android' 'ios' 'nan' 'mac' 'windows' 'linux' 'func' 'other']\n",
      "\n",
      "id_31 : ['samsung' 'safari' 'chrome' 'nan' 'edge' 'firefox' 'ie' 'other' 'android'\n",
      " 'opera' 'mobile' 'aol' 'silk' 'waterfox' 'nokia/lumia' 'puffin'\n",
      " 'cyberfox' 'zte/blade' 'palemoon' 'maxthon' 'line' 'lg/k-200' 'iron'\n",
      " 'blu/dash' 'seamonkey' 'm4tel/m4' 'comodo' 'lanix/ilium' 'chromium'\n",
      " 'inco/minion' 'cherry' 'icedragon' 'google' 'facebook']\n",
      "\n",
      "P_emaildomain : ['gmail' 'anonymous' 'hotmail' 'aol' 'yahoo' 'nan' 'outlook' 'charter'\n",
      " 'comcast' 'optonline' 'embarqmail' 'live' 'icloud' 'juno' 'att' 'msn'\n",
      " 'cox' 'servicios-ta' 'me' 'verizon' 'bellsouth' 'sbcglobal' 'gmx' 'mail'\n",
      " 'frontier' 'frontiernet' 'suddenlink' 'roadrunner' 'mac' 'earthlink'\n",
      " 'web' 'twc' 'ymail' 'windstream' 'rocketmail' 'cfl' 'q' 'prodigy'\n",
      " 'netzero' 'cableone' 'aim' 'ptd' 'centurylink' 'sc' 'protonmail']\n",
      "\n",
      "R_emaildomain : ['nan' 'gmail' 'hotmail' 'outlook' 'anonymous' 'charter' 'comcast' 'live'\n",
      " 'icloud' 'yahoo' 'aol' 'juno' 'att' 'verizon' 'bellsouth' 'servicios-ta'\n",
      " 'ymail' 'msn' 'optonline' 'gmx' 'aim' 'mail' 'me' 'cox' 'earthlink'\n",
      " 'embarqmail' 'web' 'sbcglobal' 'scranton' 'mac' 'twc' 'roadrunner'\n",
      " 'frontiernet' 'q' 'prodigy' 'windstream' 'suddenlink' 'ptd' 'frontier'\n",
      " 'cfl' 'netzero' 'rocketmail' 'centurylink' 'protonmail' 'cableone' 'sc']\n",
      "\n"
     ]
    }
   ],
   "source": [
    "print('id_30 : {}'.format(train['id_30'].unique())+'\\n')\n",
    "print('id_31 : {}'.format(train['id_31'].unique())+'\\n')\n",
    "print('P_emaildomain : {}'.format(train['P_emaildomain'].unique())+'\\n')\n",
    "print('R_emaildomain : {}'.format(train['R_emaildomain'].unique())+'\\n')"
   ]
  },
  {
   "cell_type": "markdown",
   "metadata": {},
   "source": [
    "#### Label Encoding"
   ]
  },
  {
   "cell_type": "code",
   "execution_count": 21,
   "metadata": {},
   "outputs": [],
   "source": [
    "# LabelEncoding \n",
    "categorical_features = list(object_cols)\n",
    "\n",
    "for col in categorical_features:\n",
    "    le = LabelEncoder()\n",
    "    le.fit(list(train[col].values) + list(test[col].values))\n",
    "    train[col] = le.transform(list(train[col].values))\n",
    "    test[col] = le.transform(list(test[col].values))"
   ]
  },
  {
   "cell_type": "markdown",
   "metadata": {},
   "source": [
    "#### Corrleations"
   ]
  },
  {
   "cell_type": "code",
   "execution_count": 22,
   "metadata": {},
   "outputs": [],
   "source": [
    "# train_corr = train[:50000].copy()\n",
    "# train_corr['isFraud'] = train_target.copy()\n",
    "\n",
    "# corrmat = train_corr.corr()\n",
    "# top_corr_features = corrmat.index[abs(corrmat['isFraud']) >= 0.10]\n",
    "# # top_corr_features\n",
    "# plt.figure(figsize=(13,10))\n",
    "# sns.heatmap(train_corr[top_corr_features].corr(), annot=False, cmap=\"RdYlGn\")\n",
    "# plt.title('Variable Correlations')\n",
    "# plt.show()"
   ]
  },
  {
   "cell_type": "markdown",
   "metadata": {},
   "source": [
    "#### Z-Score Standardization"
   ]
  },
  {
   "cell_type": "code",
   "execution_count": 23,
   "metadata": {},
   "outputs": [],
   "source": [
    "train = train.drop('TransactionID', axis=1)\n",
    "test_tid = test['TransactionID']\n",
    "test = test.drop('TransactionID', axis=1)"
   ]
  },
  {
   "cell_type": "code",
   "execution_count": 24,
   "metadata": {},
   "outputs": [],
   "source": [
    "# Standardization\n",
    "train_scale_ = train.drop(categorical_features, axis=1)\n",
    "test_scale_ = test.drop(categorical_features, axis=1)\n",
    "\n",
    "# z = (x - u) / s\n",
    "train_scale = (train_scale_ - train_scale_.mean()) / train_scale_.std()\n",
    "test_scale = (test_scale_ - train_scale_.mean()) / train_scale_.std()"
   ]
  },
  {
   "cell_type": "code",
   "execution_count": 25,
   "metadata": {},
   "outputs": [],
   "source": [
    "train[train_scale.columns] = train_scale\n",
    "test[test_scale.columns] = test_scale"
   ]
  },
  {
   "cell_type": "markdown",
   "metadata": {},
   "source": [
    "#### Adding PCA variables"
   ]
  },
  {
   "cell_type": "code",
   "execution_count": 26,
   "metadata": {},
   "outputs": [],
   "source": [
    "pca = PCA(n_components=3)\n",
    "pca.fit(train)\n",
    "pca_train = pca.transform(train)\n",
    "pca_test = pca.transform(test)"
   ]
  },
  {
   "cell_type": "code",
   "execution_count": 27,
   "metadata": {},
   "outputs": [],
   "source": [
    "train['pca_col1'] = pca_train[:, 0]\n",
    "train['pca_col2'] = pca_train[:, 1]\n",
    "train['pca_col3'] = pca_train[:, 2]\n",
    "\n",
    "test['pca_col1'] = pca_test[:, 0]\n",
    "test['pca_col2'] = pca_test[:, 1]\n",
    "test['pca_col3'] = pca_test[:, 2]"
   ]
  },
  {
   "cell_type": "code",
   "execution_count": 28,
   "metadata": {},
   "outputs": [
    {
     "data": {
      "text/plain": [
       "Index(['id_01', 'id_02', 'id_05', 'id_06', 'id_11', 'id_12', 'id_15', 'id_17',\n",
       "       'id_19', 'id_20',\n",
       "       ...\n",
       "       'V315', 'V316', 'V317', 'V318', 'V319', 'V320', 'V321', 'pca_col1',\n",
       "       'pca_col2', 'pca_col3'],\n",
       "      dtype='object', length=313)"
      ]
     },
     "execution_count": 28,
     "metadata": {},
     "output_type": "execute_result"
    }
   ],
   "source": [
    "train.columns"
   ]
  },
  {
   "cell_type": "markdown",
   "metadata": {},
   "source": [
    "## LightGBM model"
   ]
  },
  {
   "cell_type": "code",
   "execution_count": 29,
   "metadata": {},
   "outputs": [],
   "source": [
    "# Split train set / valid set\n",
    "x_train, x_val, y_train, y_val = train_test_split(train, train_target, test_size=0.3, random_state=42)"
   ]
  },
  {
   "cell_type": "code",
   "execution_count": 33,
   "metadata": {},
   "outputs": [
    {
     "name": "stderr",
     "output_type": "stream",
     "text": [
      "C:\\Miniconda3\\lib\\site-packages\\lightgbm\\basic.py:762: UserWarning: categorical_feature in param dict is overridden.\n",
      "  warnings.warn('categorical_feature in param dict is overridden.')\n"
     ]
    },
    {
     "name": "stdout",
     "output_type": "stream",
     "text": [
      "Training until validation scores don't improve for 500 rounds.\n",
      "[100]\ttraining's binary_logloss: 0.0433287\tvalid_1's binary_logloss: 0.0662101\n",
      "[200]\ttraining's binary_logloss: 0.0236987\tvalid_1's binary_logloss: 0.0558402\n",
      "[300]\ttraining's binary_logloss: 0.0148734\tvalid_1's binary_logloss: 0.0523366\n",
      "[400]\ttraining's binary_logloss: 0.00990411\tvalid_1's binary_logloss: 0.0508125\n",
      "[500]\ttraining's binary_logloss: 0.00679783\tvalid_1's binary_logloss: 0.050581\n",
      "[600]\ttraining's binary_logloss: 0.00472351\tvalid_1's binary_logloss: 0.0509746\n",
      "[700]\ttraining's binary_logloss: 0.00333397\tvalid_1's binary_logloss: 0.0519237\n",
      "[800]\ttraining's binary_logloss: 0.00234255\tvalid_1's binary_logloss: 0.0531545\n",
      "[900]\ttraining's binary_logloss: 0.00166069\tvalid_1's binary_logloss: 0.0546412\n",
      "Early stopping, best iteration is:\n",
      "[469]\ttraining's binary_logloss: 0.00764256\tvalid_1's binary_logloss: 0.050517\n"
     ]
    }
   ],
   "source": [
    "# LightGBM\n",
    "lgb_train = lgb.Dataset(x_train, y_train, categorical_feature=categorical_features)\n",
    "lgb_val = lgb.Dataset(x_val, y_val, categorical_feature=categorical_features)\n",
    "\n",
    "# parameters\n",
    "params = {\n",
    "    'objective':'binary',\n",
    "    'boosting_type': 'gbdt',\n",
    "    'max_depth': -1,\n",
    "    'learning_rate': 0.03,\n",
    "    'num_leaves': 500,        # number of leaves in full tree\n",
    "    'feature_fraction':0.7,   # selected parameters ratio in each iteration for building trees\n",
    "    'bagging_fraction':0.8,   # specifies the fraction of data to be used for each iteration\n",
    "    'bagging_seed':11,        # random seed for bagging\n",
    "    'n_jobs':-1,\n",
    "    'verbosity': -1\n",
    "}\n",
    "\n",
    "# Training\n",
    "lgb_model = lgb.train(params, lgb_train, valid_sets=[lgb_train, lgb_val],\n",
    "                     num_boost_round=3000,\n",
    "                     early_stopping_rounds=500,\n",
    "                     verbose_eval=100)"
   ]
  },
  {
   "cell_type": "code",
   "execution_count": 34,
   "metadata": {},
   "outputs": [
    {
     "name": "stdout",
     "output_type": "stream",
     "text": [
      "Accuracy : 0.99\n",
      "Recall : 0.96\n",
      "              precision    recall  f1-score   support\n",
      "\n",
      "           0       1.00      0.99      0.99    173257\n",
      "           1       0.61      0.96      0.75      3905\n",
      "\n",
      "    accuracy                           0.99    177162\n",
      "   macro avg       0.80      0.97      0.87    177162\n",
      "weighted avg       0.99      0.99      0.99    177162\n",
      "\n"
     ]
    }
   ],
   "source": [
    "val_preds_lgb = [1 if i>=0.5 else 0 for i in lgb_model.predict(x_val)]\n",
    "\n",
    "print('Accuracy : {:.2f}'.format(accuracy_score(val_preds_lgb, y_val)))\n",
    "print('Recall : {:.2f}'.format(recall_score(val_preds_lgb, y_val)))\n",
    "print(classification_report(val_preds_lgb, y_val))"
   ]
  },
  {
   "cell_type": "code",
   "execution_count": 35,
   "metadata": {},
   "outputs": [
    {
     "data": {
      "image/png": "[encoded data removed]",
      "text/plain": [
       "<Figure size 1080x432 with 1 Axes>"
      ]
     },
     "metadata": {
      "needs_background": "light"
     },
     "output_type": "display_data"
    }
   ],
   "source": [
    "# feature importances\n",
    "feature_importance = lgb_model.feature_importance()\n",
    "df_fi = pd.DataFrame({'columns':x_train.columns, 'importances':feature_importance})\n",
    "df_fi = df_fi[df_fi['importances'] > 500].sort_values(by=['importances'], ascending=False)\n",
    "\n",
    "fig = plt.figure(figsize=(15, 6))\n",
    "ax = sns.barplot(df_fi['columns'], df_fi['importances'])\n",
    "ax.set_xticklabels(df_fi['columns'], rotation=80, fontsize=13)\n",
    "plt.title('Feature Importance')\n",
    "plt.tight_layout()\n",
    "plt.show()"
   ]
  },
  {
   "cell_type": "markdown",
   "metadata": {},
   "source": [
    "## Save Prediction of test to *.csv"
   ]
  },
  {
   "cell_type": "code",
   "execution_count": 36,
   "metadata": {},
   "outputs": [],
   "source": [
    "test_preds = lgb_model.predict(test)"
   ]
  },
  {
   "cell_type": "code",
   "execution_count": 37,
   "metadata": {},
   "outputs": [],
   "source": [
    "test_pred_df = pd.DataFrame()\n",
    "test_pred_df['TransactionID'] = test_tid\n",
    "test_pred_df['isFraud'] = test_preds"
   ]
  },
  {
   "cell_type": "code",
   "execution_count": 38,
   "metadata": {},
   "outputs": [
    {
     "data": {
      "text/html": [
       "<div>\n",
       "<style scoped>\n",
       "    .dataframe tbody tr th:only-of-type {\n",
       "        vertical-align: middle;\n",
       "    }\n",
       "\n",
       "    .dataframe tbody tr th {\n",
       "        vertical-align: top;\n",
       "    }\n",
       "\n",
       "    .dataframe thead th {\n",
       "        text-align: right;\n",
       "    }\n",
       "</style>\n",
       "<table border=\"1\" class=\"dataframe\">\n",
       "  <thead>\n",
       "    <tr style=\"text-align: right;\">\n",
       "      <th></th>\n",
       "      <th>TransactionID</th>\n",
       "      <th>isFraud</th>\n",
       "    </tr>\n",
       "  </thead>\n",
       "  <tbody>\n",
       "    <tr>\n",
       "      <td>0</td>\n",
       "      <td>3663586</td>\n",
       "      <td>0.027975</td>\n",
       "    </tr>\n",
       "    <tr>\n",
       "      <td>1</td>\n",
       "      <td>3663588</td>\n",
       "      <td>0.000173</td>\n",
       "    </tr>\n",
       "    <tr>\n",
       "      <td>2</td>\n",
       "      <td>3663597</td>\n",
       "      <td>0.000964</td>\n",
       "    </tr>\n",
       "    <tr>\n",
       "      <td>3</td>\n",
       "      <td>3663601</td>\n",
       "      <td>0.005439</td>\n",
       "    </tr>\n",
       "    <tr>\n",
       "      <td>4</td>\n",
       "      <td>3663602</td>\n",
       "      <td>0.037521</td>\n",
       "    </tr>\n",
       "    <tr>\n",
       "      <td>5</td>\n",
       "      <td>3663622</td>\n",
       "      <td>0.035389</td>\n",
       "    </tr>\n",
       "    <tr>\n",
       "      <td>6</td>\n",
       "      <td>3663624</td>\n",
       "      <td>0.026742</td>\n",
       "    </tr>\n",
       "    <tr>\n",
       "      <td>7</td>\n",
       "      <td>3663626</td>\n",
       "      <td>0.024641</td>\n",
       "    </tr>\n",
       "    <tr>\n",
       "      <td>8</td>\n",
       "      <td>3663629</td>\n",
       "      <td>0.003050</td>\n",
       "    </tr>\n",
       "    <tr>\n",
       "      <td>9</td>\n",
       "      <td>3663658</td>\n",
       "      <td>0.000242</td>\n",
       "    </tr>\n",
       "  </tbody>\n",
       "</table>\n",
       "</div>"
      ],
      "text/plain": [
       "   TransactionID   isFraud\n",
       "0        3663586  0.027975\n",
       "1        3663588  0.000173\n",
       "2        3663597  0.000964\n",
       "3        3663601  0.005439\n",
       "4        3663602  0.037521\n",
       "5        3663622  0.035389\n",
       "6        3663624  0.026742\n",
       "7        3663626  0.024641\n",
       "8        3663629  0.003050\n",
       "9        3663658  0.000242"
      ]
     },
     "execution_count": 38,
     "metadata": {},
     "output_type": "execute_result"
    }
   ],
   "source": [
    "test_pred_df.head(10)"
   ]
  },
  {
   "cell_type": "code",
   "execution_count": 39,
   "metadata": {},
   "outputs": [],
   "source": [
    "test_pred_df.to_csv('lgb_submission.csv', index=False)"
   ]
  }
 ],
 "metadata": {
  "kernelspec": {
   "display_name": "Python 3",
   "language": "python",
   "name": "python3"
  },
  "language_info": {
   "codemirror_mode": {
    "name": "ipython",
    "version": 3
   },
   "file_extension": ".py",
   "mimetype": "text/x-python",
   "name": "python",
   "nbconvert_exporter": "python",
   "pygments_lexer": "ipython3",
   "version": "3.6.9"
  }
 },
 "nbformat": 4,
 "nbformat_minor": 4
}
